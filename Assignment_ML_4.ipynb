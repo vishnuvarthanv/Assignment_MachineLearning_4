{
 "cells": [
  {
   "cell_type": "code",
   "execution_count": 1,
   "metadata": {},
   "outputs": [],
   "source": [
    "import numpy as np \n",
    "import pandas as pd \n",
    "import seaborn as sb \n",
    "import matplotlib.pyplot as plt \n",
    "import sklearn \n",
    "from pandas import Series, DataFrame \n",
    "from pylab import rcParams \n",
    "from sklearn import preprocessing \n",
    "from sklearn.tree import DecisionTreeClassifier \n",
    "from sklearn.model_selection import train_test_split \n",
    "from sklearn import metrics\n",
    "from sklearn.metrics import accuracy_score,classification_report "
   ]
  },
  {
   "cell_type": "code",
   "execution_count": 2,
   "metadata": {},
   "outputs": [
    {
     "name": "stdout",
     "output_type": "stream",
     "text": [
      "Index(['PassengerId', 'Survived', 'Pclass', 'Name', 'Sex', 'Age', 'SibSp',\n",
      "       'Parch', 'Ticket', 'Fare', 'Cabin', 'Embarked'],\n",
      "      dtype='object')\n",
      "       PassengerId    Survived      Pclass         Age       SibSp  \\\n",
      "count   891.000000  891.000000  891.000000  714.000000  891.000000   \n",
      "mean    446.000000    0.383838    2.308642   29.699118    0.523008   \n",
      "std     257.353842    0.486592    0.836071   14.526497    1.102743   \n",
      "min       1.000000    0.000000    1.000000    0.420000    0.000000   \n",
      "25%     223.500000    0.000000    2.000000   20.125000    0.000000   \n",
      "50%     446.000000    0.000000    3.000000   28.000000    0.000000   \n",
      "75%     668.500000    1.000000    3.000000   38.000000    1.000000   \n",
      "max     891.000000    1.000000    3.000000   80.000000    8.000000   \n",
      "\n",
      "            Parch        Fare  \n",
      "count  891.000000  891.000000  \n",
      "mean     0.381594   32.204208  \n",
      "std      0.806057   49.693429  \n",
      "min      0.000000    0.000000  \n",
      "25%      0.000000    7.910400  \n",
      "50%      0.000000   14.454200  \n",
      "75%      0.000000   31.000000  \n",
      "max      6.000000  512.329200  \n"
     ]
    }
   ],
   "source": [
    "Url= \"https://raw.githubusercontent.com/BigDataGal/Python-for-Data-Science/master/titanic-train.csv \"\n",
    "titanic_df = pd.read_csv(Url)\n",
    "print(titanic_df.columns)\n",
    "print(titanic_df.describe())"
   ]
  },
  {
   "cell_type": "code",
   "execution_count": 4,
   "metadata": {},
   "outputs": [],
   "source": [
    "def data_preprocessing(df):\n",
    "    #titanic.drop(['PassengerId', 'Name', 'Ticket', 'Cabin','Embarked'], 1, inplace=True)\n",
    "    #print(titanic.tail())\n",
    "    df = df.loc[:,['Survived','Pclass','Sex','Age','SibSp','Parch','Fare']]\n",
    "    df.convert_objects(convert_numeric=True)\n",
    "    df.fillna(0, inplace=True) \n",
    "    \n",
    "    return df\n",
    "\n",
    "def handle_non_numeric_data(df):\n",
    "    columns = df.columns.values\n",
    "    \n",
    "    for column in columns:\n",
    "        text_digit_vals = {}\n",
    "        def convert_to_int(val):\n",
    "            return text_digit_vals[val]\n",
    "        \n",
    "        if df[column].dtype != np.int64 and df[column].dtype != np.float64:\n",
    "            column_contents = df[column].values.tolist()\n",
    "            unique_elements = set(column_contents)\n",
    "            \n",
    "            x = 0            \n",
    "            for unique in unique_elements:\n",
    "                if unique not in text_digit_vals:\n",
    "                    text_digit_vals[unique] = x\n",
    "                    x+=1                    \n",
    "            df[column] = list(map(convert_to_int, df[column]))\n",
    "            \n",
    "    return df"
   ]
  },
  {
   "cell_type": "code",
   "execution_count": 5,
   "metadata": {},
   "outputs": [
    {
     "name": "stdout",
     "output_type": "stream",
     "text": [
      "     Survived  Pclass     Sex   Age  SibSp  Parch   Fare\n",
      "886         0       2    male  27.0      0      0  13.00\n",
      "887         1       1  female  19.0      0      0  30.00\n",
      "888         0       3  female   0.0      1      2  23.45\n",
      "889         1       1    male  26.0      0      0  30.00\n",
      "890         0       3    male  32.0      0      0   7.75\n",
      "     Survived  Pclass  Sex   Age  SibSp  Parch   Fare\n",
      "886         0       2    0  27.0      0      0  13.00\n",
      "887         1       1    1  19.0      0      0  30.00\n",
      "888         0       3    1   0.0      1      2  23.45\n",
      "889         1       1    0  26.0      0      0  30.00\n",
      "890         0       3    0  32.0      0      0   7.75\n"
     ]
    },
    {
     "name": "stderr",
     "output_type": "stream",
     "text": [
      "F:\\Installations\\Anaconda3\\lib\\site-packages\\ipykernel_launcher.py:5: FutureWarning: convert_objects is deprecated.  To re-infer data dtypes for object columns, use DataFrame.infer_objects()\n",
      "For all other conversions use the data-type specific converters pd.to_datetime, pd.to_timedelta and pd.to_numeric.\n",
      "  \"\"\"\n"
     ]
    }
   ],
   "source": [
    "titanic_df1 = data_preprocessing(titanic_df)\n",
    "print(titanic_df1.tail())\n",
    "\n",
    "titanic_df1 = handle_non_numeric_data(titanic_df1)\n",
    "print(titanic_df1.tail())"
   ]
  },
  {
   "cell_type": "code",
   "execution_count": 6,
   "metadata": {},
   "outputs": [
    {
     "name": "stdout",
     "output_type": "stream",
     "text": [
      "DecisionTreeClassifier(class_weight=None, criterion='gini', max_depth=None,\n",
      "            max_features=None, max_leaf_nodes=None,\n",
      "            min_impurity_decrease=0.0, min_impurity_split=None,\n",
      "            min_samples_leaf=1, min_samples_split=20,\n",
      "            min_weight_fraction_leaf=0.0, presort=False, random_state=99,\n",
      "            splitter='best')\n",
      "Accuracy is  78.73134328358209\n",
      "Accuracy calculation using confusion metrics : 0.7873134328358209\n",
      "classification error using accuracy_score is : 0.2126865671641791\n",
      "classification error using confusion metrics is : 0.2126865671641791\n"
     ]
    }
   ],
   "source": [
    "X = np.array(titanic_df1.drop(['Survived'], 1).astype(float))\n",
    "Y = np.array(titanic_df1['Survived'])\n",
    "\n",
    "X_train, X_test, Y_train, Y_test = train_test_split( X, Y, test_size = 0.3, random_state = 100)\n",
    "d_tree = DecisionTreeClassifier(min_samples_split=20, random_state=99)\n",
    "print(d_tree.fit(X_train, Y_train))\n",
    "\n",
    "Y_pred = d_tree.predict(X_test)\n",
    "print(\"Accuracy is \", accuracy_score(Y_test,Y_pred)*100)\n",
    "\n",
    "confusion = metrics.confusion_matrix(Y_test, Y_pred)\n",
    "\n",
    "TP = confusion[1, 1]\n",
    "TN = confusion[0, 0]\n",
    "FP = confusion[0, 1]\n",
    "FN = confusion[1, 0]\n",
    "print(f\"Accuracy calculation using confusion metrics : {((TP + TN) / float(TP + TN + FP + FN))}\")\n",
    "\n",
    "print(f\"classification error using accuracy_score is : {1 - metrics.accuracy_score(Y_test, Y_pred)}\")\n",
    "print(f\"classification error using confusion metrics is : {(FP + FN) / float(TP + TN + FP + FN)}\")"
   ]
  },
  {
   "cell_type": "code",
   "execution_count": null,
   "metadata": {},
   "outputs": [],
   "source": []
  }
 ],
 "metadata": {
  "kernelspec": {
   "display_name": "Python 3",
   "language": "python",
   "name": "python3"
  },
  "language_info": {
   "codemirror_mode": {
    "name": "ipython",
    "version": 3
   },
   "file_extension": ".py",
   "mimetype": "text/x-python",
   "name": "python",
   "nbconvert_exporter": "python",
   "pygments_lexer": "ipython3",
   "version": "3.7.1"
  }
 },
 "nbformat": 4,
 "nbformat_minor": 2
}
